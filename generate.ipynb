{
 "cells": [
  {
   "cell_type": "code",
   "execution_count": 1,
   "metadata": {},
   "outputs": [],
   "source": [
    "from train_diffusion import Wrapper as DiffusionWrapper\n",
    "from train_vae import Wrapper as VAEWrapper, Config, VAEDataModule"
   ]
  },
  {
   "cell_type": "code",
   "execution_count": 2,
   "metadata": {},
   "outputs": [],
   "source": [
    "diffusion = DiffusionWrapper.load_from_checkpoint(\"./checkpoints/diffusion.ckpt\")\n",
    "diffusion.freeze()\n",
    "diffusion = diffusion.diffusion.cuda()\n",
    "\n",
    "diffusion.sampling_timesteps = 250\n",
    "diffusion.is_ddim_sampling = True"
   ]
  },
  {
   "cell_type": "code",
   "execution_count": null,
   "metadata": {},
   "outputs": [],
   "source": [
    "dm = VAEDataModule(\n",
    "    \"./data/\",\n",
    "    batch_size=128,\n",
    "    num_workers=8,\n",
    ")\n",
    "\n",
    "config = Config(\n",
    "    d_model=256,\n",
    "    dim_ff=768,\n",
    "    vocab=dm.vocab,\n",
    "    beta=0.01,\n",
    "    wd=0.01,\n",
    "    n_layers=8,\n",
    "    n_bn=16,\n",
    "    zdim=16,\n",
    "    lr=1e-3,\n",
    ")\n",
    "\n",
    "vae = VAEWrapper.load_from_checkpoint(\"./checkpoints/vae.ckpt\", config=config)\n",
    "vae.freeze()"
   ]
  },
  {
   "cell_type": "code",
   "execution_count": null,
   "metadata": {},
   "outputs": [],
   "source": [
    "# Generate 1024 sequences and break them into 4 parts\n",
    "x = diffusion.sample(1024).transpose(1, 2)\n",
    "s1, s2, s3, s4 = x.chunk(4, dim=1)"
   ]
  },
  {
   "cell_type": "code",
   "execution_count": null,
   "metadata": {},
   "outputs": [],
   "source": [
    "s1_tok = vae.model.decoder(s1).argmax(-1)[:, 1:-5]\n",
    "s2_tok = vae.model.decoder(s2).argmax(-1)[:, 1:-5]\n",
    "s3_tok = vae.model.decoder(s3).argmax(-1)[:, 1:-5]\n",
    "s4_tok = vae.model.decoder(s4).argmax(-1)[:, 1:-5]"
   ]
  },
  {
   "cell_type": "code",
   "execution_count": null,
   "metadata": {},
   "outputs": [],
   "source": [
    "def decode(s):\n",
    "    rev_vocab = {v:k for k,v in vae.model.config.vocab.items()}\n",
    "    decodings = []\n",
    "    for row in s:\n",
    "        tokens = [rev_vocab[t.item()] for t in row]\n",
    "        decodings.append(\"\".join(tokens))\n",
    "\n",
    "    return decodings"
   ]
  },
  {
   "cell_type": "code",
   "execution_count": null,
   "metadata": {},
   "outputs": [],
   "source": [
    "s1_dec = decode(s1_tok)\n",
    "s2_dec = decode(s2_tok)\n",
    "s3_dec = decode(s3_tok)\n",
    "s4_dec = decode(s4_tok)"
   ]
  },
  {
   "cell_type": "code",
   "execution_count": null,
   "metadata": {},
   "outputs": [],
   "source": [
    "import pandas as pd\n",
    "df = pd.DataFrame({\n",
    "    \"s1\": s1_dec,\n",
    "    \"s2\": s2_dec,\n",
    "    \"s3\": s3_dec,\n",
    "    \"s4\": s4_dec,\n",
    "})"
   ]
  },
  {
   "cell_type": "code",
   "execution_count": null,
   "metadata": {},
   "outputs": [],
   "source": [
    "df.to_csv(\"samples.csv\", index=False)"
   ]
  },
  {
   "cell_type": "code",
   "execution_count": null,
   "metadata": {},
   "outputs": [],
   "source": []
  }
 ],
 "metadata": {
  "kernelspec": {
   "display_name": "molformers",
   "language": "python",
   "name": "python3"
  },
  "language_info": {
   "codemirror_mode": {
    "name": "ipython",
    "version": 3
   },
   "file_extension": ".py",
   "mimetype": "text/x-python",
   "name": "python",
   "nbconvert_exporter": "python",
   "pygments_lexer": "ipython3",
   "version": "3.11.9"
  }
 },
 "nbformat": 4,
 "nbformat_minor": 2
}
